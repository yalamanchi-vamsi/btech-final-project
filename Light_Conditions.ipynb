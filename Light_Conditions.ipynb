{
 "cells": [
  {
   "cell_type": "code",
   "execution_count": 1,
   "metadata": {},
   "outputs": [
    {
     "name": "stderr",
     "output_type": "stream",
     "text": [
      "C:\\Users\\DELL\\AppData\\Local\\Temp\\ipykernel_20640\\4040529338.py:13: FutureWarning: Using the level keyword in DataFrame and Series aggregations is deprecated and will be removed in a future version. Use groupby instead. df.sum(level=1) should use df.groupby(level=1).sum().\n",
      "  dataf1=dfObj1.groupby(['LGT_COND']).sum().sum(level=['LGT_COND']).reset_index()\n"
     ]
    },
    {
     "name": "stdout",
     "output_type": "stream",
     "text": [
      "41259\n",
      "   LGT_COND  FATALS  PERSONS  FATAL_PERCENTAGE_LIGHT\n",
      "0         1   20016    48257               48.513052\n",
      "1         2   12555    25807               30.429724\n",
      "2         3    6851    16234               16.604862\n",
      "3         4     735     1566                1.781430\n",
      "4         5     896     2129                2.171647\n",
      "5         9     206      345                0.499285\n"
     ]
    },
    {
     "data": {
      "image/png": "[encoded data removed]",
      "text/plain": [
       "<Figure size 576x360 with 1 Axes>"
      ]
     },
     "metadata": {
      "needs_background": "light"
     },
     "output_type": "display_data"
    }
   ],
   "source": [
    "#Light-Condition\n",
    "import pandas as pd\n",
    "import matplotlib.pyplot as plt\n",
    "# setting figure size manually\n",
    "plt.rcParams[\"figure.figsize\"] = (8,5)\n",
    "#data=pd.read_csv(r'C:\\Users\\DELL\\Desktop\\New folder\\ACCIDENTS.csv',encoding='utf-8')\n",
    "data=pd.read_csv(r'C:\\Users\\DELL\\Desktop\\New folder\\ACCIDENT.csv')\n",
    "df=pd.DataFrame(data)\n",
    "#required columns\n",
    "cols1=['LGT_COND','FATALS','PERSONS']\n",
    "dfObj1=pd.DataFrame(df[cols1])\n",
    "#total fatals for different groups of light condition\n",
    "dataf1=dfObj1.groupby(['LGT_COND']).sum().sum(level=['LGT_COND']).reset_index()\n",
    "#counting total fatals\n",
    "count1=dataf1.FATALS.sum()\n",
    "#total count\n",
    "print(count1)\n",
    "#using lamda apply function to create a new column\n",
    "dataf1['FATAL_PERCENTAGE_LIGHT']=dataf1.apply(lambda row:(row.FATALS/count1)*100,axis=1)\n",
    "#refined data\n",
    "print(dataf1)\n",
    "#defining x-limits\n",
    "plt.xlim((0,7))\n",
    "#defining y-limits\n",
    "plt.ylim((0,65))\n",
    "#range between each interval\n",
    "l=['','Daylight','Dark','Dark but lighted','Dawn','Dusk','Unknown']\n",
    "plt.yticks(range(0,65,10))\n",
    "plt.xticks(range(0,7,1),l)\n",
    "#x-label\n",
    "plt.xlabel(\"LIGHT CONDITION\")\n",
    "#y-label\n",
    "plt.ylabel(\"Percentage(%)\")\n",
    "#title\n",
    "plt.title(\"(c)Fatal accidents on different light conditions\")\n",
    "#plotted-graph\n",
    "plt.bar(dataf1['LGT_COND'],dataf1['FATAL_PERCENTAGE_LIGHT'],align='center',color='blue',width=0.3)\n",
    "plt.show()\n",
    "#"
   ]
  },
  {
   "cell_type": "code",
   "execution_count": null,
   "metadata": {},
   "outputs": [],
   "source": []
  }
 ],
 "metadata": {
  "kernelspec": {
   "display_name": "Python 3 (ipykernel)",
   "language": "python",
   "name": "python3"
  },
  "language_info": {
   "codemirror_mode": {
    "name": "ipython",
    "version": 3
   },
   "file_extension": ".py",
   "mimetype": "text/x-python",
   "name": "python",
   "nbconvert_exporter": "python",
   "pygments_lexer": "ipython3",
   "version": "3.9.12"
  }
 },
 "nbformat": 4,
 "nbformat_minor": 2
}
